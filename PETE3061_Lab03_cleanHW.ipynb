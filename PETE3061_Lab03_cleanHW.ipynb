{
 "cells": [
  {
   "cell_type": "markdown",
   "metadata": {},
   "source": [
    "# Systems of Linear Algebraic Equations\n",
    "\n",
    "Solve the simultaneous equations $$\\mathbf{Ax}=\\mathbf{b}$$\n",
    "\n",
    "$$A_{11}x_1+A_{12}x_2+\\cdots+A_{1n}x_n=b_1 \\\\ A_{21}x_1+A_{22}x_2+\\cdots+A_{2n}x_n=b_2 \\\\ \n",
    "\\vdots \\\\\n",
    "A_{n1}x_1+A_{n2}x_2+\\cdots+A_{nn}x_n=b_n$$\n",
    "\n",
    "This can be written in matrix notation as\n",
    "\n",
    "$$\\left[ \\begin{matrix}\n",
    "A_{11} & A_{12} & \\cdots & A_{1n} \\\\\n",
    "A_{21} & A_{22} & \\cdots & A_{2n} \\\\\n",
    "\\vdots & \\vdots & \\ddots & \\vdots \\\\\n",
    "A_{n1} & A_{n2} & \\cdots & A_{nn} \\\\\n",
    "\\end{matrix} \\right] \\left[ \\begin{matrix}\n",
    "x_{1} \\\\\n",
    "x_{2} \\\\\n",
    "\\vdots \\\\\n",
    "x_{n} \\\\\n",
    "\\end{matrix} \\right] = \\left[ \\begin{matrix}\n",
    "b_{1} \\\\\n",
    "b_{2} \\\\\n",
    "\\vdots \\\\\n",
    "b_{n} \\\\\n",
    "\\end{matrix} \\right]$$\n",
    "\n",
    "## Uniqueness (nonsingular)\n",
    "To solve this system of equations, we must first prove there is uniqueness of solution (meaning the matrix is nonsingular). A matrix is singular (or ill conditioned) if there are linear dependencies i.e one row is a simple multiple of another row.\n",
    "\n",
    "A test for singularity would be if the determinant $|\\mathbf{A}|$ is small. But small relative to what. That reference is called the matrix norm $||\\mathbf{A}||$, therefore the matrix is singular if \n",
    "\n",
    "$$|\\mathbf{A}|<<||\\mathbf{A}||$$\n",
    "\n",
    "Condition is another way to find this at it is defined as\n",
    "\n",
    "$$cond(\\mathbf{A})=||\\mathbf{A}||\\cdot||\\mathbf{A}^-1||$$\n",
    "\n",
    "If the condition number is close to one, the matrix is well conditioned. As the conditioning number increases the degree of ill conditioning increases eventually reaching infinity as the matrix becomes singular."
   ]
  },
  {
   "cell_type": "markdown",
   "metadata": {},
   "source": [
    "## Examples"
   ]
  },
  {
   "cell_type": "markdown",
   "metadata": {},
   "source": [
    "$$3x_1+2x_2 = 18\\\\\n",
    "-x_1+2x_2 = 2$$"
   ]
  },
  {
   "cell_type": "code",
   "execution_count": null,
   "metadata": {},
   "outputs": [],
   "source": [
    "import numpy as np\n",
    "import matplotlib.pyplot as plt\n",
    "def f1(x): return (-3*x+18)/2\n",
    "def f2(x): return (2+x)/2\n",
    "x = np.arange(0,10,.01)"
   ]
  },
  {
   "cell_type": "code",
   "execution_count": null,
   "metadata": {},
   "outputs": [],
   "source": [
    "plt.plot(x,f1(x),x,f2(x))"
   ]
  },
  {
   "cell_type": "markdown",
   "metadata": {},
   "source": [
    "### Building the matrix solution"
   ]
  },
  {
   "cell_type": "code",
   "execution_count": null,
   "metadata": {},
   "outputs": [],
   "source": [
    "A = np.matrix([[3.,2.],[-1.,2.]])\n",
    "b = np.matrix([18,2])"
   ]
  },
  {
   "cell_type": "markdown",
   "metadata": {},
   "source": [
    "#### Finding the determinant"
   ]
  },
  {
   "cell_type": "code",
   "execution_count": null,
   "metadata": {},
   "outputs": [],
   "source": [
    "np.linalg.det(A)"
   ]
  },
  {
   "cell_type": "markdown",
   "metadata": {},
   "source": [
    "#### Finding the condition number"
   ]
  },
  {
   "cell_type": "code",
   "execution_count": null,
   "metadata": {},
   "outputs": [],
   "source": [
    "np.linalg.cond(A)"
   ]
  },
  {
   "cell_type": "markdown",
   "metadata": {},
   "source": [
    "#### Finding the inverse solution"
   ]
  },
  {
   "cell_type": "code",
   "execution_count": null,
   "metadata": {},
   "outputs": [],
   "source": [
    "A.I*b.T"
   ]
  },
  {
   "cell_type": "markdown",
   "metadata": {},
   "source": [
    "#### Using the linear algebra package in numpy"
   ]
  },
  {
   "cell_type": "code",
   "execution_count": null,
   "metadata": {},
   "outputs": [],
   "source": [
    "np.linalg.solve(A,b.T)"
   ]
  },
  {
   "cell_type": "markdown",
   "metadata": {},
   "source": [
    "#### Using an explicit gaussian elimination routine function"
   ]
  },
  {
   "cell_type": "code",
   "execution_count": null,
   "metadata": {},
   "outputs": [],
   "source": [
    "'''x = gauss_elimin(a, b)\n",
    "Solves [a][x] = [b] by Gauss elimination with no pivoting\n",
    "'''\n",
    "from numpy import dot, array\n",
    "\n",
    "def gauss_elimin(a, b):\n",
    "    (rows, cols) = a.shape\n",
    "  # elimination phase\n",
    "    for row in range(0, rows-1): # pivot equation/row\n",
    "        for i in range(row+1, rows):\n",
    "          if a[i, row] != 0.0:\n",
    "            factor = a [i, row]/a[row, row]\n",
    "            a[i, row+1:rows] = a[i, row+1:rows] - factor*a[row, row+1:rows]\n",
    "            b[i] = b[i] - factor*b[row]\n",
    "  # back substitution \n",
    "    for k in range(rows-1,-1,-1):\n",
    "        b[k] = (b[k] - dot(a[k, k+1:rows],b[k+1:rows]))/a[k, k]\n",
    "    return b\n",
    "\n",
    "\n",
    "print (gauss_elimin(A, b.T))"
   ]
  },
  {
   "cell_type": "markdown",
   "metadata": {},
   "source": [
    "### Demonstration of ill-posed problems"
   ]
  },
  {
   "cell_type": "code",
   "execution_count": null,
   "metadata": {},
   "outputs": [],
   "source": [
    "def f1(x): return (-3*x+18)\n",
    "def f2(x): return (-3*x+36)\n",
    "x = np.arange(0,10,.01)"
   ]
  },
  {
   "cell_type": "code",
   "execution_count": null,
   "metadata": {},
   "outputs": [],
   "source": [
    "plt.plot(x,f1(x),x,f2(x))"
   ]
  },
  {
   "cell_type": "code",
   "execution_count": null,
   "metadata": {},
   "outputs": [],
   "source": [
    "A = np.matrix([[3,1],[3,1]])\n",
    "b = np.matrix([[18,36]])"
   ]
  },
  {
   "cell_type": "code",
   "execution_count": null,
   "metadata": {},
   "outputs": [],
   "source": [
    "np.linalg.cond(A)"
   ]
  },
  {
   "cell_type": "code",
   "execution_count": null,
   "metadata": {},
   "outputs": [],
   "source": [
    "np.linalg.det(A)"
   ]
  },
  {
   "cell_type": "code",
   "execution_count": null,
   "metadata": {},
   "outputs": [],
   "source": [
    "np.linalg.norm(A)"
   ]
  },
  {
   "cell_type": "code",
   "execution_count": null,
   "metadata": {},
   "outputs": [],
   "source": [
    "np.linalg.solve(A,b.T)"
   ]
  },
  {
   "cell_type": "markdown",
   "metadata": {},
   "source": [
    "### Simple example of LU Decomposition"
   ]
  },
  {
   "cell_type": "code",
   "execution_count": null,
   "metadata": {},
   "outputs": [],
   "source": [
    "A = np.matrix([[8.,-6.,2.],[-4.,11.,-7.],[4.,-7.,6.]])\n",
    "b = np.matrix([28.,-40.,33.])\n",
    "A.I*b.T"
   ]
  },
  {
   "cell_type": "code",
   "execution_count": null,
   "metadata": {},
   "outputs": [],
   "source": [
    "import scipy.linalg\n",
    "P,L,U = scipy.linalg.lu(A)\n",
    "print(L)\n",
    "print(U)"
   ]
  },
  {
   "cell_type": "code",
   "execution_count": null,
   "metadata": {},
   "outputs": [],
   "source": [
    "scipy.multiply(L,U)"
   ]
  },
  {
   "cell_type": "code",
   "execution_count": null,
   "metadata": {},
   "outputs": [],
   "source": [
    "y = np.linalg.solve(L,b.T)"
   ]
  },
  {
   "cell_type": "code",
   "execution_count": null,
   "metadata": {},
   "outputs": [],
   "source": [
    "x = np.linalg.solve(U,y)\n",
    "x"
   ]
  },
  {
   "cell_type": "code",
   "execution_count": null,
   "metadata": {},
   "outputs": [],
   "source": []
  },
  {
   "cell_type": "markdown",
   "metadata": {},
   "source": [
    "## Real World Problem"
   ]
  },
  {
   "cell_type": "markdown",
   "metadata": {},
   "source": [
    "### Staged seperation process"
   ]
  },
  {
   "cell_type": "markdown",
   "metadata": {},
   "source": [
    "In a two-stage seperation process, we know the inlet flow rate (100bbl/d) and we know the compositional weight fraction of all of the streams. How can we use mass balance and matrices to calculate the flow rate of all the streams.\n",
    "\n",
    "Inlet to stage one flow rate $F$ is 100bbl/d with compositions of $w_{C1}=0.2,w_{C2}=0.6,w_{C3}=0.2$\n",
    "\n",
    "Light outlet to stage one flow rate is $x1$ with compositions of $w_{C1}=0.8,w_{C2}=0.2,w_{C3}=0.0$\n",
    "\n",
    "Light outlet to stage two flow rate is $x2$ with compositions of $w_{C1}=0.05,w_{C2}=0.85,w_{C3}=0.1$\n",
    "\n",
    "Heavy outlet to stage two flow rate is $x3$ with compositions of $w_{C1}=0.0,w_{C2}=0.2,w_{C3}=0.8$"
   ]
  },
  {
   "cell_type": "markdown",
   "metadata": {},
   "source": [
    "![title](Fig1.png)"
   ]
  },
  {
   "cell_type": "markdown",
   "metadata": {},
   "source": [
    "#### Make the balance equations"
   ]
  },
  {
   "cell_type": "markdown",
   "metadata": {},
   "source": [
    "The flow in equals the totals of the flows out.\n",
    "\n",
    "$$F = x1 + x2 + x3 = 100$$\n",
    "\n",
    "The flow of each components in equals the flow of each components out.\n",
    "\n",
    "$$0.2F = 0.8x1 + 0.05x2 + 0.0x3 = 20$$\n",
    "\n",
    "$$0.6F = 0.2x1 + 0.85x2 + 0.2x3 = 60$$"
   ]
  },
  {
   "cell_type": "markdown",
   "metadata": {},
   "source": [
    "#### Build the matrix"
   ]
  },
  {
   "cell_type": "code",
   "execution_count": null,
   "metadata": {},
   "outputs": [],
   "source": [
    "A = np.matrix([[1,1,1],[0.8,0.05,0.],[0.2,0.85,0.2]])\n",
    "b = np.matrix([[100],[20],[60]])"
   ]
  },
  {
   "cell_type": "markdown",
   "metadata": {},
   "source": [
    "#### Solve"
   ]
  },
  {
   "cell_type": "code",
   "execution_count": null,
   "metadata": {},
   "outputs": [],
   "source": [
    "np.linalg.solve(A,b)"
   ]
  },
  {
   "cell_type": "markdown",
   "metadata": {},
   "source": [
    "#### Answers"
   ]
  },
  {
   "cell_type": "markdown",
   "metadata": {},
   "source": [
    "The flow rates are x1 = 21.15, x2 = 61.54, and x3 = 17.31"
   ]
  },
  {
   "cell_type": "markdown",
   "metadata": {},
   "source": [
    "### Production Problem"
   ]
  },
  {
   "cell_type": "markdown",
   "metadata": {},
   "source": [
    "The IPR curve from previous weeks of root finding is only half of the solution to production. We also need to solve for the pressure drop of the production tubing while it is flowing. Where these two function cross would be the actual production rate of the system.\n",
    "\n",
    "Vogels empirical inflow performance relationship (IPR) is based on computer simulation results and is given by\n",
    "\n",
    "$$\\frac{q_o}{q_{o,max}}=1-0.2\\left(\\frac{p_{wf}}{\\bar p_R}\\right)-0.8\\left(\\frac{p_{wf}}{\\bar p_R}\\right)^2$$\n",
    "\n",
    "$q_o$ is the oil flow rate in _STB/D_\n",
    "\n",
    "$q_{o,max}$ is the maximum oil flow rate in _STB/D_\n",
    "\n",
    "$p_{wf}$ is bottomhole pressure in _psia_\n",
    "\n",
    "$\\bar p_R$ is average reservoir pressure in _psia_\n",
    "\n",
    "We will simplify this case so that it is linear by dropping the squared term. Therefore the approximate IPR is as follows:\n",
    "\n",
    "$$\\frac{q_o}{q_{o,max}}=1-0.2\\left(\\frac{p_{wf}}{\\bar p_R}\\right)$$\n",
    "\n",
    "From last week's example, we already know $q_{o,max} = 844.5STB/D$ and $\\bar p_R = 2300psi$\n",
    "\n",
    "However, bottom hole pressure $p_{wf}$ is controlled by the hydrostatic pressure head $p_{hs}$ and the additional pressure drop $p_{\\Delta p}$\n",
    "\n",
    "If we assume the well is hydrostatic of $p_{hs}=500psi$ and the simplified function for the friction drop is \n",
    "\n",
    "$$p_{wf}=p_{hs}+p_{\\Delta p} = 500+0.0001(1+2q_o)$$\n",
    "\n",
    "#### Solve for the natural pressure drive flow rate $q_o$ and bottom hole pressure $p_{wf}$"
   ]
  },
  {
   "cell_type": "code",
   "execution_count": null,
   "metadata": {},
   "outputs": [],
   "source": [
    "def p(x): return 500+(1.+2*x)\n",
    "def q(x): return ((1.-0.2*(x/2300.)))*844.5"
   ]
  },
  {
   "cell_type": "code",
   "execution_count": null,
   "metadata": {},
   "outputs": [],
   "source": []
  },
  {
   "cell_type": "code",
   "execution_count": null,
   "metadata": {},
   "outputs": [],
   "source": [
    "x = np.arange(0,2000,1.)\n",
    "labels = ['IPR','P_wf']\n",
    "plt.plot(q(x),x, label='IPR')\n",
    "plt.plot(x,p(x),label='P_wf')\n",
    "plt.xlim(0,400)\n",
    "plt.ylim(0,1200)\n",
    "plt.xlabel('Pressure')\n",
    "plt.ylabel('Flow Rate')\n",
    "plt.legend()"
   ]
  },
  {
   "cell_type": "markdown",
   "metadata": {},
   "source": [
    "### Matrix setup"
   ]
  },
  {
   "cell_type": "code",
   "execution_count": null,
   "metadata": {},
   "outputs": [],
   "source": [
    "A= np.matrix([[1/844.5,0.2/2300],[-2,2]])\n",
    "b= np.matrix([[1],[501]])"
   ]
  },
  {
   "cell_type": "markdown",
   "metadata": {},
   "source": [
    "### Solution"
   ]
  },
  {
   "cell_type": "code",
   "execution_count": 84,
   "metadata": {},
   "outputs": [
    {
     "data": {
      "text/plain": [
       "matrix([[ 769.58991859],\n",
       "        [1020.08991859]])"
      ]
     },
     "execution_count": 84,
     "metadata": {},
     "output_type": "execute_result"
    }
   ],
   "source": [
    "np.linalg.solve(A,b)"
   ]
  },
  {
   "cell_type": "code",
   "execution_count": null,
   "metadata": {},
   "outputs": [],
   "source": [
    "def seidel (A,x,b):\n",
    "    n = len(A)\n",
    "    for j in range (0,n):\n",
    "        d= b[j]\n",
    "        \n",
    "        for i in range(0,n):\n",
    "            if(j !=i):\n",
    "                d-=A[j][i]*x[i]\n",
    "                \n",
    "            x[j]= d/ A[j][j]\n",
    "            return x"
   ]
  },
  {
   "cell_type": "code",
   "execution_count": null,
   "metadata": {},
   "outputs": [],
   "source": [
    "A = [[3,1,2],[4,5,1],[1,2,3]]\n",
    "b= [4,7,3]"
   ]
  },
  {
   "cell_type": "code",
   "execution_count": null,
   "metadata": {},
   "outputs": [],
   "source": [
    "x=[0,0,0]"
   ]
  },
  {
   "cell_type": "code",
   "execution_count": null,
   "metadata": {},
   "outputs": [],
   "source": [
    "for i in range(0,4): \n",
    "    x= seidel(A,x,b)\n",
    "    print(x)"
   ]
  },
  {
   "cell_type": "code",
   "execution_count": null,
   "metadata": {},
   "outputs": [],
   "source": [
    "np.linalg.solve(A,b)"
   ]
  },
  {
   "cell_type": "code",
   "execution_count": null,
   "metadata": {},
   "outputs": [],
   "source": []
  },
  {
   "cell_type": "code",
   "execution_count": null,
   "metadata": {},
   "outputs": [],
   "source": []
  }
 ],
 "metadata": {
  "kernelspec": {
   "display_name": "Python 3",
   "language": "python",
   "name": "python3"
  },
  "language_info": {
   "codemirror_mode": {
    "name": "ipython",
    "version": 3
   },
   "file_extension": ".py",
   "mimetype": "text/x-python",
   "name": "python",
   "nbconvert_exporter": "python",
   "pygments_lexer": "ipython3",
   "version": "3.7.4"
  }
 },
 "nbformat": 4,
 "nbformat_minor": 4
}
